{
 "cells": [
  {
   "cell_type": "code",
   "execution_count": 1,
   "metadata": {},
   "outputs": [],
   "source": [
    "import json\n",
    "import pathlib\n",
    "import pickle\n",
    "from typing import List\n",
    "from typing import Tuple\n",
    "\n",
    "import pandas\n",
    "from sklearn import model_selection\n",
    "from sklearn import neighbors\n",
    "from sklearn import pipeline\n",
    "from sklearn import preprocessing"
   ]
  },
  {
   "cell_type": "code",
   "execution_count": 2,
   "metadata": {},
   "outputs": [],
   "source": [
    "SALES_PATH = \"data/kc_house_data.csv\"  # path to CSV with home sale data\n",
    "DEMOGRAPHICS_PATH = \"data/kc_house_data.csv\"  # path to CSV with demographics\n",
    "# List of columns (subset) that will be taken from home sale data\n",
    "SALES_COLUMN_SELECTION = [\n",
    "    'price', 'bedrooms', 'bathrooms', 'sqft_living', 'sqft_lot', 'floors',\n",
    "    'sqft_above', 'sqft_basement', 'zipcode'\n",
    "]\n",
    "OUTPUT_DIR = \"model\"  # Directory where output artifacts will be saved"
   ]
  },
  {
   "cell_type": "code",
   "execution_count": 4,
   "metadata": {},
   "outputs": [],
   "source": [
    "def load_data(\n",
    "    sales_path: str, demographics_path: str, sales_column_selection: List[str]\n",
    ") -> Tuple[pandas.DataFrame, pandas.Series]:\n",
    "    \"\"\"Load the target and feature data by merging sales and demographics.\n",
    "\n",
    "    Args:\n",
    "        sales_path: path to CSV file with home sale data\n",
    "        demographics_path: path to CSV file with home sale data\n",
    "        sales_column_selection: list of columns from sales data to be used as\n",
    "            features\n",
    "\n",
    "    Returns:\n",
    "        Tuple containg with two elements: a DataFrame and a Series of the same\n",
    "        length.  The DataFrame contains features for machine learning, the\n",
    "        series contains the target variable (home sale price).\n",
    "\n",
    "    \"\"\"\n",
    "    data = pandas.read_csv(sales_path,\n",
    "                           usecols=sales_column_selection,\n",
    "                           dtype={'zipcode': str})\n",
    "    demographics = pandas.read_csv(\"data/zipcode_demographics.csv\",\n",
    "                                   dtype={'zipcode': str})\n",
    "\n",
    "    merged_data = data.merge(demographics, how=\"left\",\n",
    "                             on=\"zipcode\").drop(columns=\"zipcode\")\n",
    "    data_unfileterd = pandas.read_csv(sales_path, dtype={'zipcode': str})\n",
    "    # data_unfileterd = data.merge(demographics, how=\"left\",\n",
    "    #                             on=\"zipcode\").drop(columns=\"zipcode\")\n",
    "    \n",
    "    # Remove the target variable from the dataframe, features will remain\n",
    "    y = merged_data.pop('price')\n",
    "    x = merged_data\n",
    "\n",
    "    return x, y, data_unfileterd"
   ]
  },
  {
   "cell_type": "code",
   "execution_count": 5,
   "metadata": {},
   "outputs": [],
   "source": [
    "x, y, data_unfiltered = load_data(SALES_PATH, DEMOGRAPHICS_PATH, SALES_COLUMN_SELECTION)"
   ]
  },
  {
   "cell_type": "code",
   "execution_count": 29,
   "metadata": {},
   "outputs": [
    {
     "name": "stdout",
     "output_type": "stream",
     "text": [
      "<class 'pandas.core.frame.DataFrame'>\n",
      "Int64Index: 21613 entries, 0 to 21612\n",
      "Data columns (total 33 columns):\n",
      " #   Column                  Non-Null Count  Dtype  \n",
      "---  ------                  --------------  -----  \n",
      " 0   bedrooms                21613 non-null  int64  \n",
      " 1   bathrooms               21613 non-null  float64\n",
      " 2   sqft_living             21613 non-null  int64  \n",
      " 3   sqft_lot                21613 non-null  int64  \n",
      " 4   floors                  21613 non-null  float64\n",
      " 5   sqft_above              21613 non-null  int64  \n",
      " 6   sqft_basement           21613 non-null  int64  \n",
      " 7   ppltn_qty               21613 non-null  float64\n",
      " 8   urbn_ppltn_qty          21613 non-null  float64\n",
      " 9   sbrbn_ppltn_qty         21613 non-null  float64\n",
      " 10  farm_ppltn_qty          21613 non-null  float64\n",
      " 11  non_farm_qty            21613 non-null  float64\n",
      " 12  medn_hshld_incm_amt     21613 non-null  float64\n",
      " 13  medn_incm_per_prsn_amt  21613 non-null  float64\n",
      " 14  hous_val_amt            21613 non-null  float64\n",
      " 15  edctn_less_than_9_qty   21613 non-null  float64\n",
      " 16  edctn_9_12_qty          21613 non-null  float64\n",
      " 17  edctn_high_schl_qty     21613 non-null  float64\n",
      " 18  edctn_some_clg_qty      21613 non-null  float64\n",
      " 19  edctn_assoc_dgre_qty    21613 non-null  float64\n",
      " 20  edctn_bchlr_dgre_qty    21613 non-null  float64\n",
      " 21  edctn_prfsnl_qty        21613 non-null  float64\n",
      " 22  per_urbn                21613 non-null  float64\n",
      " 23  per_sbrbn               21613 non-null  float64\n",
      " 24  per_farm                21613 non-null  float64\n",
      " 25  per_non_farm            21613 non-null  float64\n",
      " 26  per_less_than_9         21613 non-null  float64\n",
      " 27  per_9_to_12             21613 non-null  float64\n",
      " 28  per_hsd                 21613 non-null  float64\n",
      " 29  per_some_clg            21613 non-null  float64\n",
      " 30  per_assoc               21613 non-null  float64\n",
      " 31  per_bchlr               21613 non-null  float64\n",
      " 32  per_prfsnl              21613 non-null  float64\n",
      "dtypes: float64(28), int64(5)\n",
      "memory usage: 5.6 MB\n"
     ]
    }
   ],
   "source": [
    "x.info()"
   ]
  },
  {
   "cell_type": "code",
   "execution_count": 30,
   "metadata": {},
   "outputs": [
    {
     "data": {
      "text/html": [
       "<div>\n",
       "<style scoped>\n",
       "    .dataframe tbody tr th:only-of-type {\n",
       "        vertical-align: middle;\n",
       "    }\n",
       "\n",
       "    .dataframe tbody tr th {\n",
       "        vertical-align: top;\n",
       "    }\n",
       "\n",
       "    .dataframe thead th {\n",
       "        text-align: right;\n",
       "    }\n",
       "</style>\n",
       "<table border=\"1\" class=\"dataframe\">\n",
       "  <thead>\n",
       "    <tr style=\"text-align: right;\">\n",
       "      <th></th>\n",
       "      <th>bedrooms</th>\n",
       "      <th>bathrooms</th>\n",
       "      <th>sqft_living</th>\n",
       "      <th>sqft_lot</th>\n",
       "      <th>floors</th>\n",
       "      <th>sqft_above</th>\n",
       "      <th>sqft_basement</th>\n",
       "      <th>ppltn_qty</th>\n",
       "      <th>urbn_ppltn_qty</th>\n",
       "      <th>sbrbn_ppltn_qty</th>\n",
       "      <th>...</th>\n",
       "      <th>per_sbrbn</th>\n",
       "      <th>per_farm</th>\n",
       "      <th>per_non_farm</th>\n",
       "      <th>per_less_than_9</th>\n",
       "      <th>per_9_to_12</th>\n",
       "      <th>per_hsd</th>\n",
       "      <th>per_some_clg</th>\n",
       "      <th>per_assoc</th>\n",
       "      <th>per_bchlr</th>\n",
       "      <th>per_prfsnl</th>\n",
       "    </tr>\n",
       "  </thead>\n",
       "  <tbody>\n",
       "    <tr>\n",
       "      <th>count</th>\n",
       "      <td>21613.000000</td>\n",
       "      <td>21613.000000</td>\n",
       "      <td>21613.000000</td>\n",
       "      <td>2.161300e+04</td>\n",
       "      <td>21613.000000</td>\n",
       "      <td>21613.000000</td>\n",
       "      <td>21613.000000</td>\n",
       "      <td>21613.000000</td>\n",
       "      <td>21613.000000</td>\n",
       "      <td>21613.000000</td>\n",
       "      <td>...</td>\n",
       "      <td>21613.000000</td>\n",
       "      <td>21613.000000</td>\n",
       "      <td>21613.000000</td>\n",
       "      <td>21613.000000</td>\n",
       "      <td>21613.000000</td>\n",
       "      <td>21613.000000</td>\n",
       "      <td>21613.000000</td>\n",
       "      <td>21613.000000</td>\n",
       "      <td>21613.000000</td>\n",
       "      <td>21613.000000</td>\n",
       "    </tr>\n",
       "    <tr>\n",
       "      <th>mean</th>\n",
       "      <td>3.370842</td>\n",
       "      <td>2.114757</td>\n",
       "      <td>2079.899736</td>\n",
       "      <td>1.510697e+04</td>\n",
       "      <td>1.494309</td>\n",
       "      <td>1788.390691</td>\n",
       "      <td>291.509045</td>\n",
       "      <td>28980.783001</td>\n",
       "      <td>28008.304400</td>\n",
       "      <td>147.210290</td>\n",
       "      <td>...</td>\n",
       "      <td>1.703188</td>\n",
       "      <td>0.049137</td>\n",
       "      <td>4.622542</td>\n",
       "      <td>1.836996</td>\n",
       "      <td>5.077638</td>\n",
       "      <td>14.394392</td>\n",
       "      <td>18.678295</td>\n",
       "      <td>5.131634</td>\n",
       "      <td>19.413640</td>\n",
       "      <td>8.838754</td>\n",
       "    </tr>\n",
       "    <tr>\n",
       "      <th>std</th>\n",
       "      <td>0.930062</td>\n",
       "      <td>0.770163</td>\n",
       "      <td>918.440897</td>\n",
       "      <td>4.142051e+04</td>\n",
       "      <td>0.539989</td>\n",
       "      <td>828.090978</td>\n",
       "      <td>442.575043</td>\n",
       "      <td>10926.187336</td>\n",
       "      <td>11858.536684</td>\n",
       "      <td>1153.766217</td>\n",
       "      <td>...</td>\n",
       "      <td>10.842697</td>\n",
       "      <td>0.275455</td>\n",
       "      <td>13.241714</td>\n",
       "      <td>2.156718</td>\n",
       "      <td>2.475250</td>\n",
       "      <td>4.437998</td>\n",
       "      <td>2.789687</td>\n",
       "      <td>0.780764</td>\n",
       "      <td>7.048811</td>\n",
       "      <td>5.094015</td>\n",
       "    </tr>\n",
       "    <tr>\n",
       "      <th>min</th>\n",
       "      <td>0.000000</td>\n",
       "      <td>0.000000</td>\n",
       "      <td>290.000000</td>\n",
       "      <td>5.200000e+02</td>\n",
       "      <td>1.000000</td>\n",
       "      <td>290.000000</td>\n",
       "      <td>0.000000</td>\n",
       "      <td>3037.000000</td>\n",
       "      <td>0.000000</td>\n",
       "      <td>0.000000</td>\n",
       "      <td>...</td>\n",
       "      <td>0.000000</td>\n",
       "      <td>0.000000</td>\n",
       "      <td>0.000000</td>\n",
       "      <td>0.000000</td>\n",
       "      <td>1.000000</td>\n",
       "      <td>5.000000</td>\n",
       "      <td>11.000000</td>\n",
       "      <td>2.000000</td>\n",
       "      <td>6.000000</td>\n",
       "      <td>2.000000</td>\n",
       "    </tr>\n",
       "    <tr>\n",
       "      <th>25%</th>\n",
       "      <td>3.000000</td>\n",
       "      <td>1.750000</td>\n",
       "      <td>1427.000000</td>\n",
       "      <td>5.040000e+03</td>\n",
       "      <td>1.000000</td>\n",
       "      <td>1190.000000</td>\n",
       "      <td>0.000000</td>\n",
       "      <td>22269.000000</td>\n",
       "      <td>20815.000000</td>\n",
       "      <td>0.000000</td>\n",
       "      <td>...</td>\n",
       "      <td>0.000000</td>\n",
       "      <td>0.000000</td>\n",
       "      <td>0.000000</td>\n",
       "      <td>1.000000</td>\n",
       "      <td>3.000000</td>\n",
       "      <td>11.000000</td>\n",
       "      <td>17.000000</td>\n",
       "      <td>5.000000</td>\n",
       "      <td>13.000000</td>\n",
       "      <td>4.000000</td>\n",
       "    </tr>\n",
       "    <tr>\n",
       "      <th>50%</th>\n",
       "      <td>3.000000</td>\n",
       "      <td>2.250000</td>\n",
       "      <td>1910.000000</td>\n",
       "      <td>7.618000e+03</td>\n",
       "      <td>1.500000</td>\n",
       "      <td>1560.000000</td>\n",
       "      <td>0.000000</td>\n",
       "      <td>26819.000000</td>\n",
       "      <td>25593.000000</td>\n",
       "      <td>0.000000</td>\n",
       "      <td>...</td>\n",
       "      <td>0.000000</td>\n",
       "      <td>0.000000</td>\n",
       "      <td>0.000000</td>\n",
       "      <td>1.000000</td>\n",
       "      <td>5.000000</td>\n",
       "      <td>15.000000</td>\n",
       "      <td>19.000000</td>\n",
       "      <td>5.000000</td>\n",
       "      <td>19.000000</td>\n",
       "      <td>7.500000</td>\n",
       "    </tr>\n",
       "    <tr>\n",
       "      <th>75%</th>\n",
       "      <td>4.000000</td>\n",
       "      <td>2.500000</td>\n",
       "      <td>2550.000000</td>\n",
       "      <td>1.068800e+04</td>\n",
       "      <td>2.000000</td>\n",
       "      <td>2210.000000</td>\n",
       "      <td>560.000000</td>\n",
       "      <td>37695.000000</td>\n",
       "      <td>35624.000000</td>\n",
       "      <td>0.000000</td>\n",
       "      <td>...</td>\n",
       "      <td>0.000000</td>\n",
       "      <td>0.000000</td>\n",
       "      <td>0.000000</td>\n",
       "      <td>2.000000</td>\n",
       "      <td>7.000000</td>\n",
       "      <td>17.000000</td>\n",
       "      <td>20.000000</td>\n",
       "      <td>6.000000</td>\n",
       "      <td>25.000000</td>\n",
       "      <td>12.000000</td>\n",
       "    </tr>\n",
       "    <tr>\n",
       "      <th>max</th>\n",
       "      <td>33.000000</td>\n",
       "      <td>8.000000</td>\n",
       "      <td>13540.000000</td>\n",
       "      <td>1.651359e+06</td>\n",
       "      <td>3.500000</td>\n",
       "      <td>9410.000000</td>\n",
       "      <td>4820.000000</td>\n",
       "      <td>64181.000000</td>\n",
       "      <td>64181.000000</td>\n",
       "      <td>11176.000000</td>\n",
       "      <td>...</td>\n",
       "      <td>81.000000</td>\n",
       "      <td>2.000000</td>\n",
       "      <td>98.000000</td>\n",
       "      <td>11.000000</td>\n",
       "      <td>11.000000</td>\n",
       "      <td>25.000000</td>\n",
       "      <td>34.000000</td>\n",
       "      <td>7.000000</td>\n",
       "      <td>39.000000</td>\n",
       "      <td>24.000000</td>\n",
       "    </tr>\n",
       "  </tbody>\n",
       "</table>\n",
       "<p>8 rows × 33 columns</p>\n",
       "</div>"
      ],
      "text/plain": [
       "           bedrooms     bathrooms   sqft_living      sqft_lot        floors  \\\n",
       "count  21613.000000  21613.000000  21613.000000  2.161300e+04  21613.000000   \n",
       "mean       3.370842      2.114757   2079.899736  1.510697e+04      1.494309   \n",
       "std        0.930062      0.770163    918.440897  4.142051e+04      0.539989   \n",
       "min        0.000000      0.000000    290.000000  5.200000e+02      1.000000   \n",
       "25%        3.000000      1.750000   1427.000000  5.040000e+03      1.000000   \n",
       "50%        3.000000      2.250000   1910.000000  7.618000e+03      1.500000   \n",
       "75%        4.000000      2.500000   2550.000000  1.068800e+04      2.000000   \n",
       "max       33.000000      8.000000  13540.000000  1.651359e+06      3.500000   \n",
       "\n",
       "         sqft_above  sqft_basement     ppltn_qty  urbn_ppltn_qty  \\\n",
       "count  21613.000000   21613.000000  21613.000000    21613.000000   \n",
       "mean    1788.390691     291.509045  28980.783001    28008.304400   \n",
       "std      828.090978     442.575043  10926.187336    11858.536684   \n",
       "min      290.000000       0.000000   3037.000000        0.000000   \n",
       "25%     1190.000000       0.000000  22269.000000    20815.000000   \n",
       "50%     1560.000000       0.000000  26819.000000    25593.000000   \n",
       "75%     2210.000000     560.000000  37695.000000    35624.000000   \n",
       "max     9410.000000    4820.000000  64181.000000    64181.000000   \n",
       "\n",
       "       sbrbn_ppltn_qty  ...     per_sbrbn      per_farm  per_non_farm  \\\n",
       "count     21613.000000  ...  21613.000000  21613.000000  21613.000000   \n",
       "mean        147.210290  ...      1.703188      0.049137      4.622542   \n",
       "std        1153.766217  ...     10.842697      0.275455     13.241714   \n",
       "min           0.000000  ...      0.000000      0.000000      0.000000   \n",
       "25%           0.000000  ...      0.000000      0.000000      0.000000   \n",
       "50%           0.000000  ...      0.000000      0.000000      0.000000   \n",
       "75%           0.000000  ...      0.000000      0.000000      0.000000   \n",
       "max       11176.000000  ...     81.000000      2.000000     98.000000   \n",
       "\n",
       "       per_less_than_9   per_9_to_12       per_hsd  per_some_clg  \\\n",
       "count     21613.000000  21613.000000  21613.000000  21613.000000   \n",
       "mean          1.836996      5.077638     14.394392     18.678295   \n",
       "std           2.156718      2.475250      4.437998      2.789687   \n",
       "min           0.000000      1.000000      5.000000     11.000000   \n",
       "25%           1.000000      3.000000     11.000000     17.000000   \n",
       "50%           1.000000      5.000000     15.000000     19.000000   \n",
       "75%           2.000000      7.000000     17.000000     20.000000   \n",
       "max          11.000000     11.000000     25.000000     34.000000   \n",
       "\n",
       "          per_assoc     per_bchlr    per_prfsnl  \n",
       "count  21613.000000  21613.000000  21613.000000  \n",
       "mean       5.131634     19.413640      8.838754  \n",
       "std        0.780764      7.048811      5.094015  \n",
       "min        2.000000      6.000000      2.000000  \n",
       "25%        5.000000     13.000000      4.000000  \n",
       "50%        5.000000     19.000000      7.500000  \n",
       "75%        6.000000     25.000000     12.000000  \n",
       "max        7.000000     39.000000     24.000000  \n",
       "\n",
       "[8 rows x 33 columns]"
      ]
     },
     "execution_count": 30,
     "metadata": {},
     "output_type": "execute_result"
    }
   ],
   "source": [
    "x.describe()"
   ]
  },
  {
   "cell_type": "code",
   "execution_count": 31,
   "metadata": {},
   "outputs": [
    {
     "data": {
      "text/plain": [
       "Index(['id', 'date', 'price', 'bedrooms', 'bathrooms', 'sqft_living',\n",
       "       'sqft_lot', 'floors', 'waterfront', 'view', 'condition', 'grade',\n",
       "       'sqft_above', 'sqft_basement', 'yr_built', 'yr_renovated', 'zipcode',\n",
       "       'lat', 'long', 'sqft_living15', 'sqft_lot15'],\n",
       "      dtype='object')"
      ]
     },
     "execution_count": 31,
     "metadata": {},
     "output_type": "execute_result"
    }
   ],
   "source": [
    "data_unfiltered.columns"
   ]
  },
  {
   "cell_type": "code",
   "execution_count": 32,
   "metadata": {},
   "outputs": [
    {
     "data": {
      "text/plain": [
       "['id',\n",
       " 'date',\n",
       " 'price',\n",
       " 'waterfront',\n",
       " 'view',\n",
       " 'condition',\n",
       " 'grade',\n",
       " 'yr_built',\n",
       " 'yr_renovated',\n",
       " 'zipcode',\n",
       " 'lat',\n",
       " 'long',\n",
       " 'sqft_living15',\n",
       " 'sqft_lot15']"
      ]
     },
     "execution_count": 32,
     "metadata": {},
     "output_type": "execute_result"
    }
   ],
   "source": [
    "# Missing cols - Geo data? We could use a geohash to encode the lat/long - Cat2vec embedding\n",
    "[col for col in data_unfiltered.columns if col not in x.columns]"
   ]
  },
  {
   "cell_type": "code",
   "execution_count": 9,
   "metadata": {},
   "outputs": [
    {
     "name": "stdout",
     "output_type": "stream",
     "text": [
      "condition [3 5 4 1 2]\n",
      "waterfront [0 1]\n",
      "view [0 3 4 2 1]\n",
      "grade [ 7  6  8 11  9  5 10 12  4  3 13  1]\n",
      "yr_built [1955 1951 1933 1965 1987 2001 1995 1963 1960 2003 1942 1927 1977 1900\n",
      " 1979 1994 1916 1921 1969 1947 1968 1985 1941 1915 1909 1948 2005 1929\n",
      " 1981 1930 1904 1996 2000 1984 2014 1922 1959 1966 1953 1950 2008 1991\n",
      " 1954 1973 1925 1989 1972 1986 1956 2002 1992 1964 1952 1961 2006 1988\n",
      " 1962 1939 1946 1967 1975 1980 1910 1983 1978 1905 1971 2010 1945 1924\n",
      " 1990 1914 1926 2004 1923 2007 1976 1949 1999 1901 1993 1920 1997 1943\n",
      " 1957 1940 1918 1928 1974 1911 1936 1937 1982 1908 1931 1998 1913 2013\n",
      " 1907 1958 2012 1912 2011 1917 1932 1944 1902 2009 1903 1970 2015 1934\n",
      " 1938 1919 1906 1935]\n",
      "yr_renovated [   0 1991 2002 2010 1999 1992 2013 1994 1978 2005 2008 2003 1984 1954\n",
      " 2014 2011 1974 1983 1945 1990 1988 1957 1977 1981 1995 2000 1998 1970\n",
      " 1989 2004 1986 2009 2007 1987 1973 2006 1985 2001 1980 1971 1979 1997\n",
      " 1950 1969 1948 2015 1968 2012 1963 1951 1993 1962 1996 1972 1953 1955\n",
      " 1982 1956 1940 1976 1946 1975 1958 1964 1959 1960 1967 1965 1934 1944]\n"
     ]
    }
   ],
   "source": [
    "print(\"condition\", data_unfiltered['condition'].unique())\n",
    "print(\"waterfront\", data_unfiltered['waterfront'].unique())\n",
    "print(\"view\", data_unfiltered['view'].unique())\n",
    "print(\"grade\", data_unfiltered['grade'].unique())\n",
    "print('yr_built', data_unfiltered[ 'yr_built'].unique())\n",
    "print('yr_renovated', data_unfiltered[ 'yr_renovated'].unique())\n",
    "\n"
   ]
  },
  {
   "cell_type": "code",
   "execution_count": 44,
   "metadata": {},
   "outputs": [
    {
     "data": {
      "text/html": [
       "<div>\n",
       "<style scoped>\n",
       "    .dataframe tbody tr th:only-of-type {\n",
       "        vertical-align: middle;\n",
       "    }\n",
       "\n",
       "    .dataframe tbody tr th {\n",
       "        vertical-align: top;\n",
       "    }\n",
       "\n",
       "    .dataframe thead th {\n",
       "        text-align: right;\n",
       "    }\n",
       "</style>\n",
       "<table border=\"1\" class=\"dataframe\">\n",
       "  <thead>\n",
       "    <tr style=\"text-align: right;\">\n",
       "      <th></th>\n",
       "      <th>price</th>\n",
       "      <th>grade</th>\n",
       "    </tr>\n",
       "  </thead>\n",
       "  <tbody>\n",
       "    <tr>\n",
       "      <th>price</th>\n",
       "      <td>1.000000</td>\n",
       "      <td>0.667434</td>\n",
       "    </tr>\n",
       "    <tr>\n",
       "      <th>grade</th>\n",
       "      <td>0.667434</td>\n",
       "      <td>1.000000</td>\n",
       "    </tr>\n",
       "  </tbody>\n",
       "</table>\n",
       "</div>"
      ],
      "text/plain": [
       "          price     grade\n",
       "price  1.000000  0.667434\n",
       "grade  0.667434  1.000000"
      ]
     },
     "execution_count": 44,
     "metadata": {},
     "output_type": "execute_result"
    }
   ],
   "source": [
    "# corr between price and condition, waterfront, view, grade\n",
    "\n",
    "data_unfiltered[['price', 'condition']].corr()\n",
    "\n",
    "data_unfiltered[['price', 'waterfront']].corr()\n",
    "\n",
    "data_unfiltered[['price', 'view']].corr()\n",
    "\n",
    "data_unfiltered[['price', 'grade']].corr()\n"
   ]
  },
  {
   "cell_type": "code",
   "execution_count": 45,
   "metadata": {},
   "outputs": [
    {
     "data": {
      "text/plain": [
       "<AxesSubplot: >"
      ]
     },
     "execution_count": 45,
     "metadata": {},
     "output_type": "execute_result"
    },
    {
     "data": {
      "image/png": "[encoded data removed]",
      "text/plain": [
       "<Figure size 640x480 with 2 Axes>"
      ]
     },
     "metadata": {},
     "output_type": "display_data"
    }
   ],
   "source": [
    "import seaborn as sns\n",
    "\n",
    "sns.heatmap(data_unfiltered[['price', 'condition', 'waterfront', 'view', 'grade']].corr(), annot=True)"
   ]
  },
  {
   "cell_type": "code",
   "execution_count": 35,
   "metadata": {},
   "outputs": [
    {
     "data": {
      "text/plain": [
       "20832"
      ]
     },
     "execution_count": 35,
     "metadata": {},
     "output_type": "execute_result"
    }
   ],
   "source": [
    "import pygeohash as pgh\n",
    "\n",
    "# encode lat/long\n",
    "\n",
    "data_unfiltered['geohash'] = data_unfiltered.apply(lambda x: pgh.encode(x['lat'], x['long'], precision=10), axis=1)\n",
    "data_unfiltered['geohash'].nunique()\n",
    "\n"
   ]
  },
  {
   "cell_type": "code",
   "execution_count": 37,
   "metadata": {},
   "outputs": [
    {
     "name": "stderr",
     "output_type": "stream",
     "text": [
      "/Users/emelillan/opt/anaconda3/envs/datascience/lib/python3.10/site-packages/threadpoolctl.py:1223: RuntimeWarning: \n",
      "Found Intel OpenMP ('libiomp') and LLVM OpenMP ('libomp') loaded at\n",
      "the same time. Both libraries are known to be incompatible and this\n",
      "can cause random crashes or deadlocks on Linux when loaded in the\n",
      "same Python program.\n",
      "Using threadpoolctl may cause crashes or deadlocks. For more\n",
      "information and possible workarounds, please see\n",
      "    https://github.com/joblib/threadpoolctl/blob/master/multiple_openmp.md\n",
      "\n",
      "  warnings.warn(msg, RuntimeWarning)\n"
     ]
    }
   ],
   "source": [
    "# load pipeline model from /model/model.pkl and the model feautures from model/model_features.json\n",
    "import joblib\n",
    "import json\n",
    "\n",
    "\n",
    "model = joblib.load(\"model/model.pkl\")\n",
    "model_features = json.load(open(\"model/model_features.json\", \"r\"))\n",
    "predictions = model.predict(x[model_features])\n",
    "\n",
    "\n",
    "\n"
   ]
  },
  {
   "cell_type": "code",
   "execution_count": 38,
   "metadata": {},
   "outputs": [
    {
     "name": "stdout",
     "output_type": "stream",
     "text": [
      "RMSE: 160017.47981660964\n",
      "MAE: 82689.78274186833\n",
      "R2: 0.8100138984242224\n"
     ]
    }
   ],
   "source": [
    "# eval regression model with rmse mae and r2\n",
    "\n",
    "from sklearn.metrics import mean_squared_error, mean_absolute_error, r2_score\n",
    "\n",
    "rmse = mean_squared_error(y, predictions, squared=False)\n",
    "mae = mean_absolute_error(y, predictions)\n",
    "r2 = r2_score(y, predictions)\n",
    "\n",
    "print(f\"RMSE: {rmse}\")\n",
    "print(f\"MAE: {mae}\")\n",
    "print(f\"R2: {r2}\")\n"
   ]
  },
  {
   "cell_type": "markdown",
   "metadata": {},
   "source": [
    "# Model version 2"
   ]
  },
  {
   "cell_type": "code",
   "execution_count": 12,
   "metadata": {},
   "outputs": [],
   "source": [
    "import xgboost as xgb"
   ]
  },
  {
   "cell_type": "code",
   "execution_count": 53,
   "metadata": {},
   "outputs": [],
   "source": [
    "new_cols = [\n",
    "'condition',\n",
    "'waterfront',\n",
    "'view',\n",
    "'grade',\n",
    "'yr_built',\n",
    "'yr_renovated'\n",
    "]\n",
    "\n",
    "final_cols = SALES_COLUMN_SELECTION + new_cols"
   ]
  },
  {
   "cell_type": "code",
   "execution_count": 54,
   "metadata": {},
   "outputs": [],
   "source": [
    "x, y, data_unfiltered = load_data(SALES_PATH, DEMOGRAPHICS_PATH, SALES_COLUMN_SELECTION + new_cols)"
   ]
  },
  {
   "cell_type": "code",
   "execution_count": 55,
   "metadata": {},
   "outputs": [],
   "source": [
    "from sklearn.model_selection import train_test_split\n",
    "from sklearn.pipeline import Pipeline\n",
    "from sklearn.preprocessing import RobustScaler\n",
    "from xgboost import XGBRegressor\n",
    "from sklearn.model_selection import RandomizedSearchCV"
   ]
  },
  {
   "cell_type": "code",
   "execution_count": 63,
   "metadata": {},
   "outputs": [],
   "source": [
    "\n",
    "def create_pipeline():\n",
    "    \"\"\"Creates a pipeline with RobustScaler and XGBRegressor.\"\"\"\n",
    "    scaler = RobustScaler()\n",
    "    model = XGBRegressor()\n",
    "    pipeline = Pipeline(steps=[(\"scaler\", scaler), (\"model\", model)])\n",
    "    return pipeline\n",
    "\n",
    "\n",
    "def train_test_split_data(X, y, test_size=0.2, random_state=42):\n",
    "    \"\"\"Splits data into training and testing sets.\"\"\"\n",
    "    X_train, X_test, y_train, y_test = train_test_split(\n",
    "        X, y, test_size=test_size, random_state=random_state\n",
    "    )\n",
    "    return X_train, X_test, y_train, y_test\n",
    "\n",
    "\n",
    "def random_search(X_train, y_train, param_dist, n_iter=15, cv=5):\n",
    "    \"\"\"Performs a randomized search for hyperparameter tuning.\"\"\"\n",
    "    pipeline = create_pipeline()\n",
    "    random_search = RandomizedSearchCV(\n",
    "        pipeline, param_distributions=param_dist, n_iter=n_iter, cv=cv\n",
    "    )\n",
    "    random_search.fit(X_train, y_train)\n",
    "    return random_search.best_estimator_, random_search.best_params_\n",
    "\n",
    "\n",
    "# Example usage:\n",
    "# Assuming you have your data in X and y variables\n",
    "X_train, X_test, y_train, y_test = train_test_split_data(x, y)\n",
    "\n",
    "# Define your parameter distribution for randomized search\n",
    "param_dist = {\n",
    "    \"model__learning_rate\": [0.01, 0.1, 0.3],\n",
    "    \"model__n_estimators\": [100, 300, 500],\n",
    "    \"model__max_depth\": [3, 5, 7],\n",
    "    \"model__colsample_bytree\": [0.3, 0.7, 1.0],\n",
    "    \"model__subsample\": [0.2, 0.5, 0.8],\n",
    "    \"model__gamma\": [0, 1, 5],\n",
    "    \"model__reg_alpha\": [0, 1, 5],\n",
    "    \"model__reg_lambda\": [0, 1, 5],\n",
    "}\n",
    "\n",
    "# Perform randomized search and get best model and parameters\n",
    "best_model, best_params = random_search(X_train, y_train, param_dist)\n",
    "\n",
    "# Use the best model for prediction on test data\n",
    "predictions = best_model.predict(X_test)\n",
    "\n",
    "# Evaluate model performance on test data (e.g., using metrics like RMSE)"
   ]
  },
  {
   "cell_type": "code",
   "execution_count": 64,
   "metadata": {},
   "outputs": [
    {
     "name": "stdout",
     "output_type": "stream",
     "text": [
      "RMSE: 88021.700481922\n",
      "MAE: 59431.83235567886\n",
      "R2: 0.9406972677841379\n"
     ]
    }
   ],
   "source": [
    "# eval the model with the train data\n",
    "\n",
    "predictions = best_model.predict(X_train)\n",
    "\n",
    "rmse = mean_squared_error(y_train, predictions, squared=False)\n",
    "mae = mean_absolute_error(y_train, predictions)\n",
    "r2 = r2_score(y_train, predictions)\n",
    "\n",
    "print(f\"RMSE: {rmse}\")\n",
    "print(f\"MAE: {mae}\")\n",
    "print(f\"R2: {r2}\")\n"
   ]
  },
  {
   "cell_type": "code",
   "execution_count": 71,
   "metadata": {},
   "outputs": [
    {
     "name": "stdout",
     "output_type": "stream",
     "text": [
      "RMSE: 137921.25453831747\n",
      "MAE: 74168.16855518447\n",
      "R2: 0.8741719397819447\n"
     ]
    }
   ],
   "source": [
    "# eval regression model in test data\n",
    "predictions = best_model.predict(X_test)\n",
    "\n",
    "rmse = mean_squared_error(y_test, predictions, squared=False)\n",
    "mae = mean_absolute_error(y_test, predictions)\n",
    "r2 = r2_score(y_test, predictions)\n",
    "\n",
    "print(f\"RMSE: {rmse}\")\n",
    "print(f\"MAE: {mae}\")\n",
    "print(f\"R2: {r2}\")\n"
   ]
  },
  {
   "cell_type": "code",
   "execution_count": 72,
   "metadata": {},
   "outputs": [
    {
     "data": {
      "text/plain": [
       "sklearn.pipeline.Pipeline"
      ]
     },
     "execution_count": 72,
     "metadata": {},
     "output_type": "execute_result"
    }
   ],
   "source": []
  },
  {
   "cell_type": "code",
   "execution_count": null,
   "metadata": {},
   "outputs": [],
   "source": []
  }
 ],
 "metadata": {
  "kernelspec": {
   "display_name": "housing",
   "language": "python",
   "name": "python3"
  },
  "language_info": {
   "codemirror_mode": {
    "name": "ipython",
    "version": 3
   },
   "file_extension": ".py",
   "mimetype": "text/x-python",
   "name": "python",
   "nbconvert_exporter": "python",
   "pygments_lexer": "ipython3",
   "version": "3.10.8"
  }
 },
 "nbformat": 4,
 "nbformat_minor": 2
}
