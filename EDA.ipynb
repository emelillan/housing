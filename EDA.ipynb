{
 "cells": [
  {
   "cell_type": "code",
   "execution_count": 25,
   "metadata": {},
   "outputs": [],
   "source": [
    "import json\n",
    "import pathlib\n",
    "import pickle\n",
    "from typing import List\n",
    "from typing import Tuple\n",
    "\n",
    "import pandas\n",
    "from sklearn import model_selection\n",
    "from sklearn import neighbors\n",
    "from sklearn import pipeline\n",
    "from sklearn import preprocessing"
   ]
  },
  {
   "cell_type": "code",
   "execution_count": 26,
   "metadata": {},
   "outputs": [],
   "source": [
    "SALES_PATH = \"data/kc_house_data.csv\"  # path to CSV with home sale data\n",
    "DEMOGRAPHICS_PATH = \"data/kc_house_data.csv\"  # path to CSV with demographics\n",
    "# List of columns (subset) that will be taken from home sale data\n",
    "SALES_COLUMN_SELECTION = [\n",
    "    'price', 'bedrooms', 'bathrooms', 'sqft_living', 'sqft_lot', 'floors',\n",
    "    'sqft_above', 'sqft_basement', 'zipcode'\n",
    "]\n",
    "OUTPUT_DIR = \"model\"  # Directory where output artifacts will be saved"
   ]
  },
  {
   "cell_type": "code",
   "execution_count": 27,
   "metadata": {},
   "outputs": [],
   "source": [
    "def load_data(\n",
    "    sales_path: str, demographics_path: str, sales_column_selection: List[str]\n",
    ") -> Tuple[pandas.DataFrame, pandas.Series]:\n",
    "    \"\"\"Load the target and feature data by merging sales and demographics.\n",
    "\n",
    "    Args:\n",
    "        sales_path: path to CSV file with home sale data\n",
    "        demographics_path: path to CSV file with home sale data\n",
    "        sales_column_selection: list of columns from sales data to be used as\n",
    "            features\n",
    "\n",
    "    Returns:\n",
    "        Tuple containg with two elements: a DataFrame and a Series of the same\n",
    "        length.  The DataFrame contains features for machine learning, the\n",
    "        series contains the target variable (home sale price).\n",
    "\n",
    "    \"\"\"\n",
    "    data = pandas.read_csv(sales_path,\n",
    "                           usecols=sales_column_selection,\n",
    "                           dtype={'zipcode': str})\n",
    "    demographics = pandas.read_csv(\"data/zipcode_demographics.csv\",\n",
    "                                   dtype={'zipcode': str})\n",
    "\n",
    "    merged_data = data.merge(demographics, how=\"left\",\n",
    "                             on=\"zipcode\").drop(columns=\"zipcode\")\n",
    "    data_unfileterd = pandas.read_csv(sales_path, dtype={'zipcode': str})\n",
    "    # data_unfileterd = data.merge(demographics, how=\"left\",\n",
    "    #                             on=\"zipcode\").drop(columns=\"zipcode\")\n",
    "    \n",
    "    # Remove the target variable from the dataframe, features will remain\n",
    "    y = merged_data.pop('price')\n",
    "    x = merged_data\n",
    "\n",
    "    return x, y, data_unfileterd"
   ]
  },
  {
   "cell_type": "code",
   "execution_count": 28,
   "metadata": {},
   "outputs": [],
   "source": [
    "x, y, data_unfiltered = load_data(SALES_PATH, DEMOGRAPHICS_PATH, SALES_COLUMN_SELECTION)"
   ]
  },
  {
   "cell_type": "code",
   "execution_count": 29,
   "metadata": {},
   "outputs": [
    {
     "name": "stdout",
     "output_type": "stream",
     "text": [
      "<class 'pandas.core.frame.DataFrame'>\n",
      "Int64Index: 21613 entries, 0 to 21612\n",
      "Data columns (total 33 columns):\n",
      " #   Column                  Non-Null Count  Dtype  \n",
      "---  ------                  --------------  -----  \n",
      " 0   bedrooms                21613 non-null  int64  \n",
      " 1   bathrooms               21613 non-null  float64\n",
      " 2   sqft_living             21613 non-null  int64  \n",
      " 3   sqft_lot                21613 non-null  int64  \n",
      " 4   floors                  21613 non-null  float64\n",
      " 5   sqft_above              21613 non-null  int64  \n",
      " 6   sqft_basement           21613 non-null  int64  \n",
      " 7   ppltn_qty               21613 non-null  float64\n",
      " 8   urbn_ppltn_qty          21613 non-null  float64\n",
      " 9   sbrbn_ppltn_qty         21613 non-null  float64\n",
      " 10  farm_ppltn_qty          21613 non-null  float64\n",
      " 11  non_farm_qty            21613 non-null  float64\n",
      " 12  medn_hshld_incm_amt     21613 non-null  float64\n",
      " 13  medn_incm_per_prsn_amt  21613 non-null  float64\n",
      " 14  hous_val_amt            21613 non-null  float64\n",
      " 15  edctn_less_than_9_qty   21613 non-null  float64\n",
      " 16  edctn_9_12_qty          21613 non-null  float64\n",
      " 17  edctn_high_schl_qty     21613 non-null  float64\n",
      " 18  edctn_some_clg_qty      21613 non-null  float64\n",
      " 19  edctn_assoc_dgre_qty    21613 non-null  float64\n",
      " 20  edctn_bchlr_dgre_qty    21613 non-null  float64\n",
      " 21  edctn_prfsnl_qty        21613 non-null  float64\n",
      " 22  per_urbn                21613 non-null  float64\n",
      " 23  per_sbrbn               21613 non-null  float64\n",
      " 24  per_farm                21613 non-null  float64\n",
      " 25  per_non_farm            21613 non-null  float64\n",
      " 26  per_less_than_9         21613 non-null  float64\n",
      " 27  per_9_to_12             21613 non-null  float64\n",
      " 28  per_hsd                 21613 non-null  float64\n",
      " 29  per_some_clg            21613 non-null  float64\n",
      " 30  per_assoc               21613 non-null  float64\n",
      " 31  per_bchlr               21613 non-null  float64\n",
      " 32  per_prfsnl              21613 non-null  float64\n",
      "dtypes: float64(28), int64(5)\n",
      "memory usage: 5.6 MB\n"
     ]
    }
   ],
   "source": [
    "x.info()"
   ]
  },
  {
   "cell_type": "code",
   "execution_count": 30,
   "metadata": {},
   "outputs": [
    {
     "data": {
      "text/html": [
       "<div>\n",
       "<style scoped>\n",
       "    .dataframe tbody tr th:only-of-type {\n",
       "        vertical-align: middle;\n",
       "    }\n",
       "\n",
       "    .dataframe tbody tr th {\n",
       "        vertical-align: top;\n",
       "    }\n",
       "\n",
       "    .dataframe thead th {\n",
       "        text-align: right;\n",
       "    }\n",
       "</style>\n",
       "<table border=\"1\" class=\"dataframe\">\n",
       "  <thead>\n",
       "    <tr style=\"text-align: right;\">\n",
       "      <th></th>\n",
       "      <th>bedrooms</th>\n",
       "      <th>bathrooms</th>\n",
       "      <th>sqft_living</th>\n",
       "      <th>sqft_lot</th>\n",
       "      <th>floors</th>\n",
       "      <th>sqft_above</th>\n",
       "      <th>sqft_basement</th>\n",
       "      <th>ppltn_qty</th>\n",
       "      <th>urbn_ppltn_qty</th>\n",
       "      <th>sbrbn_ppltn_qty</th>\n",
       "      <th>...</th>\n",
       "      <th>per_sbrbn</th>\n",
       "      <th>per_farm</th>\n",
       "      <th>per_non_farm</th>\n",
       "      <th>per_less_than_9</th>\n",
       "      <th>per_9_to_12</th>\n",
       "      <th>per_hsd</th>\n",
       "      <th>per_some_clg</th>\n",
       "      <th>per_assoc</th>\n",
       "      <th>per_bchlr</th>\n",
       "      <th>per_prfsnl</th>\n",
       "    </tr>\n",
       "  </thead>\n",
       "  <tbody>\n",
       "    <tr>\n",
       "      <th>count</th>\n",
       "      <td>21613.000000</td>\n",
       "      <td>21613.000000</td>\n",
       "      <td>21613.000000</td>\n",
       "      <td>2.161300e+04</td>\n",
       "      <td>21613.000000</td>\n",
       "      <td>21613.000000</td>\n",
       "      <td>21613.000000</td>\n",
       "      <td>21613.000000</td>\n",
       "      <td>21613.000000</td>\n",
       "      <td>21613.000000</td>\n",
       "      <td>...</td>\n",
       "      <td>21613.000000</td>\n",
       "      <td>21613.000000</td>\n",
       "      <td>21613.000000</td>\n",
       "      <td>21613.000000</td>\n",
       "      <td>21613.000000</td>\n",
       "      <td>21613.000000</td>\n",
       "      <td>21613.000000</td>\n",
       "      <td>21613.000000</td>\n",
       "      <td>21613.000000</td>\n",
       "      <td>21613.000000</td>\n",
       "    </tr>\n",
       "    <tr>\n",
       "      <th>mean</th>\n",
       "      <td>3.370842</td>\n",
       "      <td>2.114757</td>\n",
       "      <td>2079.899736</td>\n",
       "      <td>1.510697e+04</td>\n",
       "      <td>1.494309</td>\n",
       "      <td>1788.390691</td>\n",
       "      <td>291.509045</td>\n",
       "      <td>28980.783001</td>\n",
       "      <td>28008.304400</td>\n",
       "      <td>147.210290</td>\n",
       "      <td>...</td>\n",
       "      <td>1.703188</td>\n",
       "      <td>0.049137</td>\n",
       "      <td>4.622542</td>\n",
       "      <td>1.836996</td>\n",
       "      <td>5.077638</td>\n",
       "      <td>14.394392</td>\n",
       "      <td>18.678295</td>\n",
       "      <td>5.131634</td>\n",
       "      <td>19.413640</td>\n",
       "      <td>8.838754</td>\n",
       "    </tr>\n",
       "    <tr>\n",
       "      <th>std</th>\n",
       "      <td>0.930062</td>\n",
       "      <td>0.770163</td>\n",
       "      <td>918.440897</td>\n",
       "      <td>4.142051e+04</td>\n",
       "      <td>0.539989</td>\n",
       "      <td>828.090978</td>\n",
       "      <td>442.575043</td>\n",
       "      <td>10926.187336</td>\n",
       "      <td>11858.536684</td>\n",
       "      <td>1153.766217</td>\n",
       "      <td>...</td>\n",
       "      <td>10.842697</td>\n",
       "      <td>0.275455</td>\n",
       "      <td>13.241714</td>\n",
       "      <td>2.156718</td>\n",
       "      <td>2.475250</td>\n",
       "      <td>4.437998</td>\n",
       "      <td>2.789687</td>\n",
       "      <td>0.780764</td>\n",
       "      <td>7.048811</td>\n",
       "      <td>5.094015</td>\n",
       "    </tr>\n",
       "    <tr>\n",
       "      <th>min</th>\n",
       "      <td>0.000000</td>\n",
       "      <td>0.000000</td>\n",
       "      <td>290.000000</td>\n",
       "      <td>5.200000e+02</td>\n",
       "      <td>1.000000</td>\n",
       "      <td>290.000000</td>\n",
       "      <td>0.000000</td>\n",
       "      <td>3037.000000</td>\n",
       "      <td>0.000000</td>\n",
       "      <td>0.000000</td>\n",
       "      <td>...</td>\n",
       "      <td>0.000000</td>\n",
       "      <td>0.000000</td>\n",
       "      <td>0.000000</td>\n",
       "      <td>0.000000</td>\n",
       "      <td>1.000000</td>\n",
       "      <td>5.000000</td>\n",
       "      <td>11.000000</td>\n",
       "      <td>2.000000</td>\n",
       "      <td>6.000000</td>\n",
       "      <td>2.000000</td>\n",
       "    </tr>\n",
       "    <tr>\n",
       "      <th>25%</th>\n",
       "      <td>3.000000</td>\n",
       "      <td>1.750000</td>\n",
       "      <td>1427.000000</td>\n",
       "      <td>5.040000e+03</td>\n",
       "      <td>1.000000</td>\n",
       "      <td>1190.000000</td>\n",
       "      <td>0.000000</td>\n",
       "      <td>22269.000000</td>\n",
       "      <td>20815.000000</td>\n",
       "      <td>0.000000</td>\n",
       "      <td>...</td>\n",
       "      <td>0.000000</td>\n",
       "      <td>0.000000</td>\n",
       "      <td>0.000000</td>\n",
       "      <td>1.000000</td>\n",
       "      <td>3.000000</td>\n",
       "      <td>11.000000</td>\n",
       "      <td>17.000000</td>\n",
       "      <td>5.000000</td>\n",
       "      <td>13.000000</td>\n",
       "      <td>4.000000</td>\n",
       "    </tr>\n",
       "    <tr>\n",
       "      <th>50%</th>\n",
       "      <td>3.000000</td>\n",
       "      <td>2.250000</td>\n",
       "      <td>1910.000000</td>\n",
       "      <td>7.618000e+03</td>\n",
       "      <td>1.500000</td>\n",
       "      <td>1560.000000</td>\n",
       "      <td>0.000000</td>\n",
       "      <td>26819.000000</td>\n",
       "      <td>25593.000000</td>\n",
       "      <td>0.000000</td>\n",
       "      <td>...</td>\n",
       "      <td>0.000000</td>\n",
       "      <td>0.000000</td>\n",
       "      <td>0.000000</td>\n",
       "      <td>1.000000</td>\n",
       "      <td>5.000000</td>\n",
       "      <td>15.000000</td>\n",
       "      <td>19.000000</td>\n",
       "      <td>5.000000</td>\n",
       "      <td>19.000000</td>\n",
       "      <td>7.500000</td>\n",
       "    </tr>\n",
       "    <tr>\n",
       "      <th>75%</th>\n",
       "      <td>4.000000</td>\n",
       "      <td>2.500000</td>\n",
       "      <td>2550.000000</td>\n",
       "      <td>1.068800e+04</td>\n",
       "      <td>2.000000</td>\n",
       "      <td>2210.000000</td>\n",
       "      <td>560.000000</td>\n",
       "      <td>37695.000000</td>\n",
       "      <td>35624.000000</td>\n",
       "      <td>0.000000</td>\n",
       "      <td>...</td>\n",
       "      <td>0.000000</td>\n",
       "      <td>0.000000</td>\n",
       "      <td>0.000000</td>\n",
       "      <td>2.000000</td>\n",
       "      <td>7.000000</td>\n",
       "      <td>17.000000</td>\n",
       "      <td>20.000000</td>\n",
       "      <td>6.000000</td>\n",
       "      <td>25.000000</td>\n",
       "      <td>12.000000</td>\n",
       "    </tr>\n",
       "    <tr>\n",
       "      <th>max</th>\n",
       "      <td>33.000000</td>\n",
       "      <td>8.000000</td>\n",
       "      <td>13540.000000</td>\n",
       "      <td>1.651359e+06</td>\n",
       "      <td>3.500000</td>\n",
       "      <td>9410.000000</td>\n",
       "      <td>4820.000000</td>\n",
       "      <td>64181.000000</td>\n",
       "      <td>64181.000000</td>\n",
       "      <td>11176.000000</td>\n",
       "      <td>...</td>\n",
       "      <td>81.000000</td>\n",
       "      <td>2.000000</td>\n",
       "      <td>98.000000</td>\n",
       "      <td>11.000000</td>\n",
       "      <td>11.000000</td>\n",
       "      <td>25.000000</td>\n",
       "      <td>34.000000</td>\n",
       "      <td>7.000000</td>\n",
       "      <td>39.000000</td>\n",
       "      <td>24.000000</td>\n",
       "    </tr>\n",
       "  </tbody>\n",
       "</table>\n",
       "<p>8 rows × 33 columns</p>\n",
       "</div>"
      ],
      "text/plain": [
       "           bedrooms     bathrooms   sqft_living      sqft_lot        floors  \\\n",
       "count  21613.000000  21613.000000  21613.000000  2.161300e+04  21613.000000   \n",
       "mean       3.370842      2.114757   2079.899736  1.510697e+04      1.494309   \n",
       "std        0.930062      0.770163    918.440897  4.142051e+04      0.539989   \n",
       "min        0.000000      0.000000    290.000000  5.200000e+02      1.000000   \n",
       "25%        3.000000      1.750000   1427.000000  5.040000e+03      1.000000   \n",
       "50%        3.000000      2.250000   1910.000000  7.618000e+03      1.500000   \n",
       "75%        4.000000      2.500000   2550.000000  1.068800e+04      2.000000   \n",
       "max       33.000000      8.000000  13540.000000  1.651359e+06      3.500000   \n",
       "\n",
       "         sqft_above  sqft_basement     ppltn_qty  urbn_ppltn_qty  \\\n",
       "count  21613.000000   21613.000000  21613.000000    21613.000000   \n",
       "mean    1788.390691     291.509045  28980.783001    28008.304400   \n",
       "std      828.090978     442.575043  10926.187336    11858.536684   \n",
       "min      290.000000       0.000000   3037.000000        0.000000   \n",
       "25%     1190.000000       0.000000  22269.000000    20815.000000   \n",
       "50%     1560.000000       0.000000  26819.000000    25593.000000   \n",
       "75%     2210.000000     560.000000  37695.000000    35624.000000   \n",
       "max     9410.000000    4820.000000  64181.000000    64181.000000   \n",
       "\n",
       "       sbrbn_ppltn_qty  ...     per_sbrbn      per_farm  per_non_farm  \\\n",
       "count     21613.000000  ...  21613.000000  21613.000000  21613.000000   \n",
       "mean        147.210290  ...      1.703188      0.049137      4.622542   \n",
       "std        1153.766217  ...     10.842697      0.275455     13.241714   \n",
       "min           0.000000  ...      0.000000      0.000000      0.000000   \n",
       "25%           0.000000  ...      0.000000      0.000000      0.000000   \n",
       "50%           0.000000  ...      0.000000      0.000000      0.000000   \n",
       "75%           0.000000  ...      0.000000      0.000000      0.000000   \n",
       "max       11176.000000  ...     81.000000      2.000000     98.000000   \n",
       "\n",
       "       per_less_than_9   per_9_to_12       per_hsd  per_some_clg  \\\n",
       "count     21613.000000  21613.000000  21613.000000  21613.000000   \n",
       "mean          1.836996      5.077638     14.394392     18.678295   \n",
       "std           2.156718      2.475250      4.437998      2.789687   \n",
       "min           0.000000      1.000000      5.000000     11.000000   \n",
       "25%           1.000000      3.000000     11.000000     17.000000   \n",
       "50%           1.000000      5.000000     15.000000     19.000000   \n",
       "75%           2.000000      7.000000     17.000000     20.000000   \n",
       "max          11.000000     11.000000     25.000000     34.000000   \n",
       "\n",
       "          per_assoc     per_bchlr    per_prfsnl  \n",
       "count  21613.000000  21613.000000  21613.000000  \n",
       "mean       5.131634     19.413640      8.838754  \n",
       "std        0.780764      7.048811      5.094015  \n",
       "min        2.000000      6.000000      2.000000  \n",
       "25%        5.000000     13.000000      4.000000  \n",
       "50%        5.000000     19.000000      7.500000  \n",
       "75%        6.000000     25.000000     12.000000  \n",
       "max        7.000000     39.000000     24.000000  \n",
       "\n",
       "[8 rows x 33 columns]"
      ]
     },
     "execution_count": 30,
     "metadata": {},
     "output_type": "execute_result"
    }
   ],
   "source": [
    "x.describe()"
   ]
  },
  {
   "cell_type": "code",
   "execution_count": 31,
   "metadata": {},
   "outputs": [
    {
     "data": {
      "text/plain": [
       "Index(['id', 'date', 'price', 'bedrooms', 'bathrooms', 'sqft_living',\n",
       "       'sqft_lot', 'floors', 'waterfront', 'view', 'condition', 'grade',\n",
       "       'sqft_above', 'sqft_basement', 'yr_built', 'yr_renovated', 'zipcode',\n",
       "       'lat', 'long', 'sqft_living15', 'sqft_lot15'],\n",
       "      dtype='object')"
      ]
     },
     "execution_count": 31,
     "metadata": {},
     "output_type": "execute_result"
    }
   ],
   "source": [
    "data_unfiltered.columns"
   ]
  },
  {
   "cell_type": "code",
   "execution_count": 32,
   "metadata": {},
   "outputs": [
    {
     "data": {
      "text/plain": [
       "['id',\n",
       " 'date',\n",
       " 'price',\n",
       " 'waterfront',\n",
       " 'view',\n",
       " 'condition',\n",
       " 'grade',\n",
       " 'yr_built',\n",
       " 'yr_renovated',\n",
       " 'zipcode',\n",
       " 'lat',\n",
       " 'long',\n",
       " 'sqft_living15',\n",
       " 'sqft_lot15']"
      ]
     },
     "execution_count": 32,
     "metadata": {},
     "output_type": "execute_result"
    }
   ],
   "source": [
    "# Missing cols - Geo data? I would use a geohash to encode the lat/long - embedding?\n",
    "[col for col in data_unfiltered.columns if col not in x.columns]"
   ]
  },
  {
   "cell_type": "code",
   "execution_count": 33,
   "metadata": {},
   "outputs": [
    {
     "name": "stdout",
     "output_type": "stream",
     "text": [
      "condition [3 5 4 1 2]\n",
      "waterfront [0 1]\n",
      "view [0 3 4 2 1]\n"
     ]
    }
   ],
   "source": [
    "print(\"condition\", data_unfiltered['condition'].unique())\n",
    "print(\"waterfront\", data_unfiltered['waterfront'].unique())\n",
    "print(\"view\", data_unfiltered['view'].unique())"
   ]
  },
  {
   "cell_type": "code",
   "execution_count": 34,
   "metadata": {},
   "outputs": [],
   "source": [
    "# geohash encoding\n",
    "# https://pypi.org/project/pygeohash/"
   ]
  },
  {
   "cell_type": "code",
   "execution_count": 35,
   "metadata": {},
   "outputs": [
    {
     "data": {
      "text/plain": [
       "20832"
      ]
     },
     "execution_count": 35,
     "metadata": {},
     "output_type": "execute_result"
    }
   ],
   "source": [
    "import pygeohash as pgh\n",
    "\n",
    "# encode lat/long\n",
    "\n",
    "data_unfiltered['geohash'] = data_unfiltered.apply(lambda x: pgh.encode(x['lat'], x['long'], precision=10), axis=1)\n",
    "data_unfiltered['geohash'].nunique()\n",
    "\n"
   ]
  },
  {
   "cell_type": "code",
   "execution_count": 36,
   "metadata": {},
   "outputs": [],
   "source": [
    "# import folium\n",
    "# from folium.plugins import HeatMap\n",
    "\n",
    "# # Create a map centered at the mean latitude and longitude\n",
    "# m = folium.Map(location=[data_unfiltered['lat'].mean(), data_unfiltered['long'].mean()], zoom_start=10)\n",
    "\n",
    "# # Add a heatmap to the map\n",
    "# HeatMap(data=data_unfiltered[['lat', 'long']], radius=10).add_to(m)\n",
    "\n",
    "# # Display the map\n",
    "# # m   \n"
   ]
  },
  {
   "cell_type": "code",
   "execution_count": 37,
   "metadata": {},
   "outputs": [
    {
     "name": "stderr",
     "output_type": "stream",
     "text": [
      "/Users/emelillan/opt/anaconda3/envs/datascience/lib/python3.10/site-packages/threadpoolctl.py:1223: RuntimeWarning: \n",
      "Found Intel OpenMP ('libiomp') and LLVM OpenMP ('libomp') loaded at\n",
      "the same time. Both libraries are known to be incompatible and this\n",
      "can cause random crashes or deadlocks on Linux when loaded in the\n",
      "same Python program.\n",
      "Using threadpoolctl may cause crashes or deadlocks. For more\n",
      "information and possible workarounds, please see\n",
      "    https://github.com/joblib/threadpoolctl/blob/master/multiple_openmp.md\n",
      "\n",
      "  warnings.warn(msg, RuntimeWarning)\n"
     ]
    }
   ],
   "source": [
    "# load pipeline model from /model/model.pkl and the model feautures from model/model_features.json\n",
    "import joblib\n",
    "import json\n",
    "\n",
    "\n",
    "model = joblib.load(\"model/model.pkl\")\n",
    "model_features = json.load(open(\"model/model_features.json\", \"r\"))\n",
    "predictions = model.predict(x[model_features])\n",
    "\n",
    "\n",
    "\n"
   ]
  },
  {
   "cell_type": "code",
   "execution_count": 38,
   "metadata": {},
   "outputs": [
    {
     "name": "stdout",
     "output_type": "stream",
     "text": [
      "RMSE: 160017.47981660964\n",
      "MAE: 82689.78274186833\n",
      "R2: 0.8100138984242224\n"
     ]
    }
   ],
   "source": [
    "# eval regression model with rmse mae and r2\n",
    "\n",
    "from sklearn.metrics import mean_squared_error, mean_absolute_error, r2_score\n",
    "\n",
    "rmse = mean_squared_error(y, predictions, squared=False)\n",
    "mae = mean_absolute_error(y, predictions)\n",
    "r2 = r2_score(y, predictions)\n",
    "\n",
    "print(f\"RMSE: {rmse}\")\n",
    "print(f\"MAE: {mae}\")\n",
    "print(f\"R2: {r2}\")\n",
    "\n",
    "\n",
    "\n"
   ]
  },
  {
   "cell_type": "code",
   "execution_count": 40,
   "metadata": {},
   "outputs": [
    {
     "data": {
      "text/plain": [
       "['bedrooms',\n",
       " 'bathrooms',\n",
       " 'sqft_living',\n",
       " 'sqft_lot',\n",
       " 'floors',\n",
       " 'sqft_above',\n",
       " 'sqft_basement',\n",
       " 'ppltn_qty',\n",
       " 'urbn_ppltn_qty',\n",
       " 'sbrbn_ppltn_qty',\n",
       " 'farm_ppltn_qty',\n",
       " 'non_farm_qty',\n",
       " 'medn_hshld_incm_amt',\n",
       " 'medn_incm_per_prsn_amt',\n",
       " 'hous_val_amt',\n",
       " 'edctn_less_than_9_qty',\n",
       " 'edctn_9_12_qty',\n",
       " 'edctn_high_schl_qty',\n",
       " 'edctn_some_clg_qty',\n",
       " 'edctn_assoc_dgre_qty',\n",
       " 'edctn_bchlr_dgre_qty',\n",
       " 'edctn_prfsnl_qty',\n",
       " 'per_urbn',\n",
       " 'per_sbrbn',\n",
       " 'per_farm',\n",
       " 'per_non_farm',\n",
       " 'per_less_than_9',\n",
       " 'per_9_to_12',\n",
       " 'per_hsd',\n",
       " 'per_some_clg',\n",
       " 'per_assoc',\n",
       " 'per_bchlr',\n",
       " 'per_prfsnl']"
      ]
     },
     "execution_count": 40,
     "metadata": {},
     "output_type": "execute_result"
    }
   ],
   "source": [
    "model_features"
   ]
  },
  {
   "cell_type": "code",
   "execution_count": 36,
   "metadata": {},
   "outputs": [],
   "source": [
    "import json\n",
    "model_features = json.load(open(\"model/model_features.json\", \"r\"))"
   ]
  },
  {
   "cell_type": "code",
   "execution_count": 11,
   "metadata": {},
   "outputs": [],
   "source": [
    "x, _ , _ = load_data(SALES_PATH, DEMOGRAPHICS_PATH, SALES_COLUMN_SELECTION)"
   ]
  },
  {
   "cell_type": "code",
   "execution_count": 21,
   "metadata": {},
   "outputs": [],
   "source": [
    "dtypes = x.dtypes"
   ]
  },
  {
   "cell_type": "code",
   "execution_count": 22,
   "metadata": {},
   "outputs": [],
   "source": [
    "# save dtypes as dict to model/model_dtypes.json\n",
    "\n",
    "dtypes.to_json(\"model/model_dtypes.json\", default_handler=str)\n"
   ]
  },
  {
   "cell_type": "code",
   "execution_count": 15,
   "metadata": {},
   "outputs": [
    {
     "data": {
      "text/plain": [
       "Index(['bedrooms', 'bathrooms', 'sqft_living', 'sqft_lot', 'floors',\n",
       "       'waterfront', 'view', 'condition', 'grade', 'sqft_above',\n",
       "       'sqft_basement', 'yr_built', 'yr_renovated', 'zipcode', 'lat', 'long',\n",
       "       'sqft_living15', 'sqft_lot15'],\n",
       "      dtype='object')"
      ]
     },
     "execution_count": 15,
     "metadata": {},
     "output_type": "execute_result"
    }
   ],
   "source": [
    "data_unseen.columns"
   ]
  },
  {
   "cell_type": "code",
   "execution_count": 17,
   "metadata": {},
   "outputs": [
    {
     "data": {
      "text/plain": [
       "Index(['bedrooms', 'bathrooms', 'sqft_living', 'sqft_lot', 'floors',\n",
       "       'sqft_above', 'sqft_basement', 'ppltn_qty', 'urbn_ppltn_qty',\n",
       "       'sbrbn_ppltn_qty', 'farm_ppltn_qty', 'non_farm_qty',\n",
       "       'medn_hshld_incm_amt', 'medn_incm_per_prsn_amt', 'hous_val_amt',\n",
       "       'edctn_less_than_9_qty', 'edctn_9_12_qty', 'edctn_high_schl_qty',\n",
       "       'edctn_some_clg_qty', 'edctn_assoc_dgre_qty', 'edctn_bchlr_dgre_qty',\n",
       "       'edctn_prfsnl_qty', 'per_urbn', 'per_sbrbn', 'per_farm', 'per_non_farm',\n",
       "       'per_less_than_9', 'per_9_to_12', 'per_hsd', 'per_some_clg',\n",
       "       'per_assoc', 'per_bchlr', 'per_prfsnl'],\n",
       "      dtype='object')"
      ]
     },
     "execution_count": 17,
     "metadata": {},
     "output_type": "execute_result"
    }
   ],
   "source": [
    "x.columns"
   ]
  },
  {
   "cell_type": "code",
   "execution_count": 16,
   "metadata": {},
   "outputs": [
    {
     "ename": "KeyError",
     "evalue": "'ppltn_qty'",
     "output_type": "error",
     "traceback": [
      "\u001b[0;31m---------------------------------------------------------------------------\u001b[0m",
      "\u001b[0;31mKeyError\u001b[0m                                  Traceback (most recent call last)",
      "File \u001b[0;32m~/opt/anaconda3/envs/datascience/lib/python3.10/site-packages/pandas/core/indexes/base.py:3803\u001b[0m, in \u001b[0;36mIndex.get_loc\u001b[0;34m(self, key, method, tolerance)\u001b[0m\n\u001b[1;32m   3802\u001b[0m \u001b[38;5;28;01mtry\u001b[39;00m:\n\u001b[0;32m-> 3803\u001b[0m     \u001b[38;5;28;01mreturn\u001b[39;00m \u001b[38;5;28;43mself\u001b[39;49m\u001b[38;5;241;43m.\u001b[39;49m\u001b[43m_engine\u001b[49m\u001b[38;5;241;43m.\u001b[39;49m\u001b[43mget_loc\u001b[49m\u001b[43m(\u001b[49m\u001b[43mcasted_key\u001b[49m\u001b[43m)\u001b[49m\n\u001b[1;32m   3804\u001b[0m \u001b[38;5;28;01mexcept\u001b[39;00m \u001b[38;5;167;01mKeyError\u001b[39;00m \u001b[38;5;28;01mas\u001b[39;00m err:\n",
      "File \u001b[0;32m~/opt/anaconda3/envs/datascience/lib/python3.10/site-packages/pandas/_libs/index.pyx:138\u001b[0m, in \u001b[0;36mpandas._libs.index.IndexEngine.get_loc\u001b[0;34m()\u001b[0m\n",
      "File \u001b[0;32m~/opt/anaconda3/envs/datascience/lib/python3.10/site-packages/pandas/_libs/index.pyx:165\u001b[0m, in \u001b[0;36mpandas._libs.index.IndexEngine.get_loc\u001b[0;34m()\u001b[0m\n",
      "File \u001b[0;32mpandas/_libs/hashtable_class_helper.pxi:5745\u001b[0m, in \u001b[0;36mpandas._libs.hashtable.PyObjectHashTable.get_item\u001b[0;34m()\u001b[0m\n",
      "File \u001b[0;32mpandas/_libs/hashtable_class_helper.pxi:5753\u001b[0m, in \u001b[0;36mpandas._libs.hashtable.PyObjectHashTable.get_item\u001b[0;34m()\u001b[0m\n",
      "\u001b[0;31mKeyError\u001b[0m: 'ppltn_qty'",
      "\nThe above exception was the direct cause of the following exception:\n",
      "\u001b[0;31mKeyError\u001b[0m                                  Traceback (most recent call last)",
      "Cell \u001b[0;32mIn[16], line 2\u001b[0m\n\u001b[1;32m      1\u001b[0m \u001b[38;5;28;01mfor\u001b[39;00m key, value \u001b[38;5;129;01min\u001b[39;00m dtypes_loaded\u001b[38;5;241m.\u001b[39mitems():\n\u001b[0;32m----> 2\u001b[0m     data_unseen[key] \u001b[38;5;241m=\u001b[39m \u001b[43mdata_unseen\u001b[49m\u001b[43m[\u001b[49m\u001b[43mkey\u001b[49m\u001b[43m]\u001b[49m\u001b[38;5;241m.\u001b[39mastype(value)\n",
      "File \u001b[0;32m~/opt/anaconda3/envs/datascience/lib/python3.10/site-packages/pandas/core/frame.py:3805\u001b[0m, in \u001b[0;36mDataFrame.__getitem__\u001b[0;34m(self, key)\u001b[0m\n\u001b[1;32m   3803\u001b[0m \u001b[38;5;28;01mif\u001b[39;00m \u001b[38;5;28mself\u001b[39m\u001b[38;5;241m.\u001b[39mcolumns\u001b[38;5;241m.\u001b[39mnlevels \u001b[38;5;241m>\u001b[39m \u001b[38;5;241m1\u001b[39m:\n\u001b[1;32m   3804\u001b[0m     \u001b[38;5;28;01mreturn\u001b[39;00m \u001b[38;5;28mself\u001b[39m\u001b[38;5;241m.\u001b[39m_getitem_multilevel(key)\n\u001b[0;32m-> 3805\u001b[0m indexer \u001b[38;5;241m=\u001b[39m \u001b[38;5;28;43mself\u001b[39;49m\u001b[38;5;241;43m.\u001b[39;49m\u001b[43mcolumns\u001b[49m\u001b[38;5;241;43m.\u001b[39;49m\u001b[43mget_loc\u001b[49m\u001b[43m(\u001b[49m\u001b[43mkey\u001b[49m\u001b[43m)\u001b[49m\n\u001b[1;32m   3806\u001b[0m \u001b[38;5;28;01mif\u001b[39;00m is_integer(indexer):\n\u001b[1;32m   3807\u001b[0m     indexer \u001b[38;5;241m=\u001b[39m [indexer]\n",
      "File \u001b[0;32m~/opt/anaconda3/envs/datascience/lib/python3.10/site-packages/pandas/core/indexes/base.py:3805\u001b[0m, in \u001b[0;36mIndex.get_loc\u001b[0;34m(self, key, method, tolerance)\u001b[0m\n\u001b[1;32m   3803\u001b[0m     \u001b[38;5;28;01mreturn\u001b[39;00m \u001b[38;5;28mself\u001b[39m\u001b[38;5;241m.\u001b[39m_engine\u001b[38;5;241m.\u001b[39mget_loc(casted_key)\n\u001b[1;32m   3804\u001b[0m \u001b[38;5;28;01mexcept\u001b[39;00m \u001b[38;5;167;01mKeyError\u001b[39;00m \u001b[38;5;28;01mas\u001b[39;00m err:\n\u001b[0;32m-> 3805\u001b[0m     \u001b[38;5;28;01mraise\u001b[39;00m \u001b[38;5;167;01mKeyError\u001b[39;00m(key) \u001b[38;5;28;01mfrom\u001b[39;00m \u001b[38;5;21;01merr\u001b[39;00m\n\u001b[1;32m   3806\u001b[0m \u001b[38;5;28;01mexcept\u001b[39;00m \u001b[38;5;167;01mTypeError\u001b[39;00m:\n\u001b[1;32m   3807\u001b[0m     \u001b[38;5;66;03m# If we have a listlike key, _check_indexing_error will raise\u001b[39;00m\n\u001b[1;32m   3808\u001b[0m     \u001b[38;5;66;03m#  InvalidIndexError. Otherwise we fall through and re-raise\u001b[39;00m\n\u001b[1;32m   3809\u001b[0m     \u001b[38;5;66;03m#  the TypeError.\u001b[39;00m\n\u001b[1;32m   3810\u001b[0m     \u001b[38;5;28mself\u001b[39m\u001b[38;5;241m.\u001b[39m_check_indexing_error(key)\n",
      "\u001b[0;31mKeyError\u001b[0m: 'ppltn_qty'"
     ]
    }
   ],
   "source": [
    "for key, value in dtypes_loaded.items():\n",
    "    data_unseen[key] = data_unseen[key].astype(value)\n",
    "    "
   ]
  },
  {
   "cell_type": "code",
   "execution_count": 29,
   "metadata": {},
   "outputs": [],
   "source": []
  },
  {
   "cell_type": "code",
   "execution_count": 30,
   "metadata": {},
   "outputs": [
    {
     "data": {
      "text/plain": [
       "bedrooms           int64\n",
       "bathrooms        float64\n",
       "sqft_living        int64\n",
       "sqft_lot           int64\n",
       "floors           float64\n",
       "waterfront         int64\n",
       "view               int64\n",
       "condition          int64\n",
       "grade              int64\n",
       "sqft_above         int64\n",
       "sqft_basement      int64\n",
       "yr_built           int64\n",
       "yr_renovated       int64\n",
       "zipcode            int64\n",
       "lat              float64\n",
       "long             float64\n",
       "sqft_living15      int64\n",
       "sqft_lot15         int64\n",
       "dtype: object"
      ]
     },
     "execution_count": 30,
     "metadata": {},
     "output_type": "execute_result"
    }
   ],
   "source": [
    "data_unseen.dtypes"
   ]
  },
  {
   "cell_type": "code",
   "execution_count": null,
   "metadata": {},
   "outputs": [],
   "source": []
  }
 ],
 "metadata": {
  "kernelspec": {
   "display_name": "housing",
   "language": "python",
   "name": "python3"
  },
  "language_info": {
   "codemirror_mode": {
    "name": "ipython",
    "version": 3
   },
   "file_extension": ".py",
   "mimetype": "text/x-python",
   "name": "python",
   "nbconvert_exporter": "python",
   "pygments_lexer": "ipython3",
   "version": "3.10.8"
  }
 },
 "nbformat": 4,
 "nbformat_minor": 2
}
